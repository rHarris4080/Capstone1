{
  "nbformat": 4,
  "nbformat_minor": 0,
  "metadata": {
    "colab": {
      "name": "Capstone1 - Hypothesis Testing.ipynb",
      "provenance": [],
      "collapsed_sections": [],
      "authorship_tag": "ABX9TyNojIg6h1c3qKuo6q3jz3VH",
      "include_colab_link": true
    },
    "kernelspec": {
      "name": "python3",
      "display_name": "Python 3"
    }
  },
  "cells": [
    {
      "cell_type": "markdown",
      "metadata": {
        "id": "view-in-github",
        "colab_type": "text"
      },
      "source": [
        "<a href=\"https://colab.research.google.com/github/rHarris4080/Capstone1/blob/main/Capstone1_Hypothesis_Testing.ipynb\" target=\"_parent\"><img src=\"https://colab.research.google.com/assets/colab-badge.svg\" alt=\"Open In Colab\"/></a>"
      ]
    },
    {
      "cell_type": "markdown",
      "metadata": {
        "id": "Xd0H4jY_E6KT"
      },
      "source": [
        "#14.1 Capstone1 - Robert Harris\n",
        "\n",
        "The dataset of interest was found on Kaggle. It is the Worldwide Happiness Report where data was provided from 2015-2020. Many categories were included factoring into a country’s overall happiness rank. While many categories overlapped from year to year, many differed on their content and how that content was reported. Therefore, instead of comparing data from year to year I decided to focus on the most recent year provided 2020.  The stakeholder is anyone interested in what people perceive as happiness relative to where in the world you live.  Stakeholders will have a small insight into one aspect of worldwide happiness that could be a segue into further data analysis.\n",
        "\n",
        "##1. Introduction: Worldwide Happiness Report\n",
        "We all want to be \"Happy\" in whatever context we feel happiness lies. Job satisfaction, freedoms and liberty, family, religion, social justice, governmental policies, and freedom to exercise our perceived rights are just a few of the determining factors. Instead of just analyzing the most or least happy countries, I wanted to compare the happier countries with the less happy countries on some category. So, I decided to compare the first quartile(Q1) ranking of 'Freedom to make life choices' with the third quartile(Q3) same ranking for the year 2020.\n",
        "\n",
        "##2. Hypothesis\n",
        "Ho: There is no significant difference between the average 'Freedom to make life choices' rankings as measured at the 1st quartile versus that as measured at the 3rd quartile.\n",
        "\n",
        "Ha: There is a significant difference between the average 'Freedom to make life choices' rankings as measured at the 1st quartile versus that as measured at the 3rd quartile.\n",
        "\n",
        "##3. Data\n",
        "The data comes from Kaggle measuring 153 countries where rankings are comprised of 20 variables. The dataset is found through the following link:\n",
        "\n",
        "https://www.kaggle.com/mathurinache/world-happiness-report?select=2020.csv\n",
        "\n",
        "##4.  Methods\n",
        "For this analysis I will use pandas for comparing World Happiness variables of 'Freedom to make life choices' rankings with the third quartile and first quartile rankings for the year 2020. \n",
        "\n",
        "If the distributions of 'Freedom to make life choices' rankings appear to be close to normally distributed based on their histogram, skewness and kurtosis, I wil conduct an independent samples t-test between the groups at the two-tail, 95% confidence interval.\n",
        "\n"
      ]
    },
    {
      "cell_type": "code",
      "metadata": {
        "id": "IATIhZzjE1Ov",
        "colab": {
          "resources": {
            "http://localhost:8080/nbextensions/google.colab/files.js": {
              "data": "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",
              "ok": true,
              "headers": [
                [
                  "content-type",
                  "application/javascript"
                ]
              ],
              "status": 200,
              "status_text": ""
            }
          },
          "base_uri": "https://localhost:8080/",
          "height": 73
        },
        "outputId": "3bc1afeb-588d-4f4d-fbc4-5212f93c17d1"
      },
      "source": [
        "%matplotlib inline\n",
        "import pandas as pd\n",
        "import numpy as np\n",
        "import seaborn as sns\n",
        "from matplotlib import pyplot as plt\n",
        "from scipy import stats\n",
        "\n",
        "#Access the dataset\n",
        "from google.colab import files \n",
        "uploaded = files.upload()\n",
        "import io  \n",
        "countries = pd.read_csv(io.BytesIO(uploaded['2020.csv']))"
      ],
      "execution_count": null,
      "outputs": [
        {
          "output_type": "display_data",
          "data": {
            "text/html": [
              "\n",
              "     <input type=\"file\" id=\"files-8d558b4d-e93f-4677-976a-1cfb9d67db5b\" name=\"files[]\" multiple disabled\n",
              "        style=\"border:none\" />\n",
              "     <output id=\"result-8d558b4d-e93f-4677-976a-1cfb9d67db5b\">\n",
              "      Upload widget is only available when the cell has been executed in the\n",
              "      current browser session. Please rerun this cell to enable.\n",
              "      </output>\n",
              "      <script src=\"/nbextensions/google.colab/files.js\"></script> "
            ],
            "text/plain": [
              "<IPython.core.display.HTML object>"
            ]
          },
          "metadata": {
            "tags": []
          }
        },
        {
          "output_type": "stream",
          "text": [
            "Saving 2020.csv to 2020.csv\n"
          ],
          "name": "stdout"
        }
      ]
    },
    {
      "cell_type": "code",
      "metadata": {
        "id": "ZBJlj3wKGlF6",
        "colab": {
          "base_uri": "https://localhost:8080/",
          "height": 575
        },
        "outputId": "4a962325-60c6-47c9-adff-812866551ef4"
      },
      "source": [
        "# Investigate the 'Freedom to make life choices' entries for normality\n",
        "free_choices = countries['Freedom to make life choices']\n",
        "\n",
        "print(\"Check Skewness & kurtosis - ['Freedom to make life choices']\")\n",
        "print(stats.describe(free_choices))\n",
        "print()\n",
        "\n",
        "print(\"Visually check normality - ['Freedom to make life choices']\")\n",
        "plt.hist(free_choices , alpha=0.5)\n",
        "plt.show()\n",
        "print()\n",
        "\n",
        "#----------------------------------------------------------------------- Filtering countries by quartiles for comparsions\n",
        "# Country rank sorted by 'Ladder score' in descending order\n",
        "countries_top = countries[countries['Ladder score'] > countries['Ladder score'].median()]\n",
        "countries_q4 = countries_top[countries_top['Ladder score'] > countries_top['Ladder score'].median()]\n",
        "countries_q3 = countries_top[countries_top['Ladder score'] < countries_top['Ladder score'].median()]\n",
        "\n",
        "countries_bottom = countries[countries['Ladder score'] < countries['Ladder score'].median()]\n",
        "countries_q2 = countries_bottom[countries_bottom['Ladder score'] > countries_bottom['Ladder score'].median()]\n",
        "countries_q1 = countries_bottom[countries_bottom['Ladder score'] < countries_bottom['Ladder score'].median()]\n",
        "\n",
        "# conduct independent T-Test on filtered country lists relative to ['Freedom to make life choices'] entry\n",
        "print(\"Comparing average differences between Q3 and Q1 'Freedom to make life choices' rankings.\")\n",
        "print(stats.ttest_ind(countries_q3['Freedom to make life choices'], countries_q1['Freedom to make life choices']))\n",
        "\n",
        "#-------------------------------------------------------------------------- Further exploration for tighter interval comparisons\n",
        "print(\"\\nComparing average differences between Q4 and Q3 'Freedom to make life choices' rankings.\")\n",
        "print(stats.ttest_ind(countries_q4['Freedom to make life choices'], countries_q3['Freedom to make life choices']))\n",
        "\n",
        "print(\"\\nComparing average differences between Q3 and Q2 'Freedom to make life choices' rankings.\")\n",
        "print(stats.ttest_ind(countries_q3['Freedom to make life choices'], countries_q2['Freedom to make life choices']))\n",
        "\n",
        "print(\"\\nComparing average differences between Q2 and Q1 'Freedom to make life choices' rankings.\")\n",
        "print(stats.ttest_ind(countries_q2['Freedom to make life choices'], countries_q1['Freedom to make life choices']))"
      ],
      "execution_count": null,
      "outputs": [
        {
          "output_type": "stream",
          "text": [
            "Check Skewness & kurtosis - ['Freedom to make life choices']\n",
            "DescribeResult(nobs=153, minmax=(0.39657300700000003, 0.974998116), mean=0.783360169620915, variance=0.013873600779754575, skewness=-0.6887650422452569, kurtosis=0.1071952310954094)\n",
            "\n",
            "Visually check normality - ['Freedom to make life choices']\n"
          ],
          "name": "stdout"
        },
        {
          "output_type": "display_data",
          "data": {
            "image/png": "[encoded data removed]",
            "text/plain": [
              "<Figure size 432x288 with 1 Axes>"
            ]
          },
          "metadata": {
            "tags": [],
            "needs_background": "light"
          }
        },
        {
          "output_type": "stream",
          "text": [
            "\n",
            "Comparing average differences between Q3 and Q1 'Freedom to make life choices' rankings.\n",
            "Ttest_indResult(statistic=4.4066108492738145, pvalue=3.4911662875001375e-05)\n",
            "\n",
            "Comparing average differences between Q4 and Q3 'Freedom to make life choices' rankings.\n",
            "Ttest_indResult(statistic=3.7434588252232066, pvalue=0.0003563366346132009)\n",
            "\n",
            "Comparing average differences between Q3 and Q2 'Freedom to make life choices' rankings.\n",
            "Ttest_indResult(statistic=2.3120748809045604, pvalue=0.02355809686210005)\n",
            "\n",
            "Comparing average differences between Q2 and Q1 'Freedom to make life choices' rankings.\n",
            "Ttest_indResult(statistic=2.1555675569926698, pvalue=0.034369315983011337)\n"
          ],
          "name": "stdout"
        }
      ]
    },
    {
      "cell_type": "code",
      "metadata": {
        "id": "dtzSLGi6B8Hm"
      },
      "source": [
        ""
      ],
      "execution_count": null,
      "outputs": []
    },
    {
      "cell_type": "markdown",
      "metadata": {
        "id": "pbDjhpp_Qbgj"
      },
      "source": [
        "##5. Results:\n",
        "Based on the visual inspection of the histogram (slightly negatively skewed) with supporting of skewness (-0.6888) and kurtosis (0.1072) I proceeded with the T-Test.\n",
        "\n",
        "Based on a p < .001 along with T-Stat > 1.96, I reject “Ho: There is no significant difference between the average 'Freedom to make life choices' rankings as measured at the 1st quartile versus that as measured at the 3rd quartile”.\n",
        "\n",
        "Furthermore, within 95% confidence interval, I conclude there is a significant difference between the average 'Freedom to make life choices' rankings as measured at the 1st quartile versus that as measured at the 3rd quartile.\n",
        "\n",
        "##6. Further Discussions:\n",
        "####a. Do these findings carry over to comparing tighter intervals (Q4 vs Q3, Q3 vs Q2, and Q2 vs Q1)?\n",
        "####b. While this comparison only focused on one variable, how might results and insights change if comparing multiple variables?\n",
        "####c. Rank the variables in determining Worldwide Happiness ranking for significance.\n",
        "####d. How are variables weighted?\n",
        "####e. Any significant variables that could be missing from the rankings?\n"
      ]
    },
    {
      "cell_type": "code",
      "metadata": {
        "id": "kfTKmqCfQcjg",
        "colab": {
          "base_uri": "https://localhost:8080/"
        },
        "outputId": "ea6bd9de-96fc-4d24-b25d-de79d5549358"
      },
      "source": [
        "#----------------------------------------------------------- Finding Quartile Countries\n",
        "#Return quartile rank Q1\n",
        "def median(nums):\n",
        "  if(nums%2==0):\n",
        "    return nums/2\n",
        "  else:\n",
        "    return nums//2+1\n",
        "\n",
        "def q1(nums):\n",
        "    m = nums//2\n",
        "    if(nums%2==0):\n",
        "      return m +m//2 \n",
        "    else:\n",
        "      return m + m//2 +1\n",
        "#---------------------------------------------------------\n",
        "#Return quartile rank Q3\n",
        "def q3(nums):\n",
        "    m = nums//2\n",
        "    if(nums%2==0):\n",
        "      return m//2 \n",
        "    else:\n",
        "      return m//2 -1    \n",
        "#---------------------------------------------------------\n",
        "#Statistical information for further discussions: \n",
        "#countries_df = pd.DataFrame(countries)\n",
        "#print(countries_df['Freedom to make life choices'].quantile([0.25,0.5,0.75]))\n",
        "\n",
        "#Quartiled values for 'Freedom to make life choices':\n",
        "print(free_choices.describe())\n",
        "print()\n",
        "\n",
        "print(\"Quartiled ranked Countries for reference:\\n\")\n",
        "print(\"Q\\tRank\\tCountry\\t\\t\\tLadder Score Freedom Score\") \n",
        "q3 = int(q3(len(countries)))+1\n",
        "q1 = int(q1(len(countries)))+1\n",
        "\n",
        "m=median(len(countries))\n",
        "print(\"Q4:\\t\", 1, \"\\t\", countries_df['Country name'].loc[0], \"\\t\\t\", countries_df['Ladder score'].loc[0], \"\", countries_df['Freedom to make life choices'].loc[0])\n",
        "print(\"Q3+1:\\t\", q3, \"\\t\", countries_df['Country name'].loc[q3-1], \"\\t\\t\", countries_df['Ladder score'].loc[q3-1], \"\", countries_df['Freedom to make life choices'].loc[q3-1])\n",
        "print(\"\\nQ3:\\t\", q3+1, \"\\t\", countries_df['Country name'].loc[q3], \"\\t\\t\\t\", countries_df['Ladder score'].loc[q3], \"\", countries_df['Freedom to make life choices'].loc[q3])\n",
        "print(\"Q2+1:\\t\", m-1, \"\\t\", countries_df['Country name'].loc[m-2], \"\\t\\t\", countries_df['Ladder score'].loc[m-2], \"\", countries_df['Freedom to make life choices'].loc[m-2])\n",
        "print(\"\\nMedian:\\t\", m, \"\\t\", countries_df['Country name'].loc[m-1], \"\\t\\t\", countries_df['Ladder score'].loc[m-1], \"\", countries_df['Freedom to make life choices'].loc[m-1])\n",
        "print(\"\\nQ2-1:\\t\", m+1, \"\\t\", countries_df['Country name'].loc[m], \"\", countries_df['Ladder score'].loc[m], \"\", countries_df['Freedom to make life choices'].loc[m])\n",
        "print(\"Q1+1:\\t\", q1-1, \"\\t\", countries_df['Country name'].loc[q1-2], \"\\t\\t\", countries_df['Ladder score'].loc[q1-2], \"\", countries_df['Freedom to make life choices'].loc[q1-2])\n",
        "\n",
        "print(\"\\nQ1:\\t\", q1, \"\\t\", countries_df['Country name'].loc[q1-1], \"\\t\\t\", countries_df['Ladder score'].loc[q1-1], \"\", countries_df['Freedom to make life choices'].loc[q1-1])\n",
        "print(\"Q0:\\t\", len(countries), \"\\t\", countries_df['Country name'].loc[len(countries)-1], \"\\t\\t\", countries_df['Ladder score'].loc[len(countries)-1], \"\", countries_df['Freedom to make life choices'].loc[len(countries)-1])\n",
        "\n",
        "countries_df['Freedom to make life choices'].max()"
      ],
      "execution_count": null,
      "outputs": [
        {
          "output_type": "stream",
          "text": [
            "count    153.000000\n",
            "mean       0.783360\n",
            "std        0.117786\n",
            "min        0.396573\n",
            "25%        0.714839\n",
            "50%        0.799805\n",
            "75%        0.877709\n",
            "max        0.974998\n",
            "Name: Freedom to make life choices, dtype: float64\n",
            "\n",
            "Quartiled ranked Countries for reference:\n",
            "\n",
            "Q\tRank\tCountry\t\t\tLadder Score Freedom Score\n",
            "Q4:\t 1 \t Finland \t\t 7.808700085  0.949172199\n",
            "Q3+1:\t 38 \t Uzbekistan \t\t 6.257599831  0.974998116\n",
            "\n",
            "Q3:\t 39 \t Chile \t\t\t 6.228499889  0.7448962929999999\n",
            "Q2+1:\t 76 \t North Cyprus \t\t 5.53550005  0.79529351\n",
            "\n",
            "Median:\t 77 \t Greece \t\t 5.514999866  0.5413451189999999\n",
            "\n",
            "Q2-1:\t 78 \t Hong Kong S.A.R. of China  5.510399818  0.7798337940000001\n",
            "Q1+1:\t 115 \t Nigeria \t\t 4.724100113  0.759578407\n",
            "\n",
            "Q1:\t 116 \t Armenia \t\t 4.676799774  0.7120178340000001\n",
            "Q0:\t 153 \t Afghanistan \t\t 2.566900015  0.39657300700000003\n"
          ],
          "name": "stdout"
        },
        {
          "output_type": "execute_result",
          "data": {
            "text/plain": [
              "0.974998116"
            ]
          },
          "metadata": {
            "tags": []
          },
          "execution_count": 43
        }
      ]
    },
    {
      "cell_type": "code",
      "metadata": {
        "id": "8dSmhOnN6YMj"
      },
      "source": [
        "9"
      ],
      "execution_count": null,
      "outputs": []
    }
  ]
}